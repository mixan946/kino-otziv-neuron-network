{
 "metadata": {
  "language": "ruby",
  "name": "",
  "signature": "sha256:ec41914bfe2a4c5fdd6c20ba0c819b5bc3fa7fb25dc175c9f14d0610ff4dc191"
 },
 "nbformat": 3,
 "nbformat_minor": 0,
 "worksheets": [
  {
   "cells": [
    {
     "cell_type": "code",
     "collapsed": false,
     "input": [
      "load 'tweet_network.rb'\n",
      "Tweet.file = \"calculate_error/1000_collection.json\"\n",
      "Tweet.run_network\n",
      "Tweet.draw_plot\n"
     ],
     "language": "python",
     "metadata": {},
     "outputs": []
    },
    {
     "cell_type": "code",
     "collapsed": false,
     "input": [
      "load 'tweet_network.rb'\n",
      "Tweet.file = \"calculate_error/1000_collection.json\"\n",
      "Tweet.run_network\n",
      "Tweet.draw_neurotica_plot\n"
     ],
     "language": "python",
     "metadata": {},
     "outputs": []
    },
    {
     "cell_type": "code",
     "collapsed": false,
     "input": [
      "Tweet.draw_neurotica_plot"
     ],
     "language": "python",
     "metadata": {},
     "outputs": []
    },
    {
     "cell_type": "code",
     "collapsed": false,
     "input": [],
     "language": "python",
     "metadata": {},
     "outputs": []
    }
   ],
   "metadata": {}
  }
 ]
}