{
 "metadata": {
  "language": "ruby",
  "name": "",
  "signature": "sha256:1372b5a0a6fc104d04ed8914dfcae0c81b5537937859025b78724c423816de89"
 },
 "nbformat": 3,
 "nbformat_minor": 0,
 "worksheets": [
  {
   "cells": [
    {
     "cell_type": "code",
     "collapsed": false,
     "input": [
      "load 'tweet_network.rb'\n",
      "Tweet.file = \"calculate_error/1000_collection.json\"\n",
      "Tweet.run_network\n",
      "Tweet.draw_plot\n"
     ],
     "language": "python",
     "metadata": {},
     "outputs": []
    },
    {
     "cell_type": "code",
     "collapsed": false,
     "input": [
      "load 'tweet_network.rb'\n",
      "Tweet.file = \"calculate_error/1000_collection.json\"\n",
      "Tweet.run_network\n",
      "Tweet.draw_neurotica_plot\n"
     ],
     "language": "python",
     "metadata": {},
     "outputs": []
    },
    {
     "cell_type": "code",
     "collapsed": false,
     "input": [
      "Tweet.draw_neurotica_plot"
     ],
     "language": "python",
     "metadata": {},
     "outputs": []
    },
    {
     "cell_type": "code",
     "collapsed": false,
     "input": [
      "load 'tweet_network.rb'\n",
      "TweetAnalyze.run_network\n"
     ],
     "language": "python",
     "metadata": {},
     "outputs": [
      {
       "output_type": "stream",
       "stream": "stdout",
       "text": [
        "Error: 0.0457830500751207\n"
       ]
      }
     ],
     "prompt_number": 10
    },
    {
     "cell_type": "code",
     "collapsed": false,
     "input": [
      "a, b =0\n",
      "puts [a, b]"
     ],
     "language": "python",
     "metadata": {},
     "outputs": []
    },
    {
     "cell_type": "code",
     "collapsed": false,
     "input": [],
     "language": "python",
     "metadata": {},
     "outputs": []
    }
   ],
   "metadata": {}
  }
 ]
}