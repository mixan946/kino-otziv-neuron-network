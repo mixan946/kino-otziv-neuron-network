{
 "metadata": {
  "language": "ruby",
  "name": "",
  "signature": "sha256:c2e9a59a3d18db7478bf6a0f2dc0cbeb30f89cf4368f972d4f33aaa5cc2f9b96"
 },
 "nbformat": 3,
 "nbformat_minor": 0,
 "worksheets": [
  {
   "cells": [
    {
     "cell_type": "code",
     "collapsed": false,
     "input": [
      "load 'tweet_network.rb'\n",
      "Tweet.file = \"calculate_error/1000_collection.json\"\n",
      "Tweet.run_network\n",
      "Tweet.draw_plot\n"
     ],
     "language": "python",
     "metadata": {},
     "outputs": []
    },
    {
     "cell_type": "code",
     "collapsed": false,
     "input": [
      "load 'tweet_network.rb'\n",
      "Tweet.file = \"calculate_error/1000_collection.json\"\n",
      "Tweet.run_network\n",
      "Tweet.draw_neurotica_plot\n"
     ],
     "language": "python",
     "metadata": {},
     "outputs": []
    },
    {
     "cell_type": "code",
     "collapsed": false,
     "input": [
      "Tweet.draw_neurotica_plot"
     ],
     "language": "python",
     "metadata": {},
     "outputs": []
    },
    {
     "cell_type": "code",
     "collapsed": false,
     "input": [
      "load 'tweet_network.rb'\n",
      "TweetAnalyze.run_network\n",
      "a, b =0\n"
     ],
     "language": "python",
     "metadata": {},
     "outputs": [
      {
       "ename": "NoMethodError",
       "evalue": "undefined method `+' for nil:NilClass",
       "output_type": "pyerr",
       "traceback": [
        "\u001b[31mNoMethodError\u001b[0m: undefined method `+' for nil:NilClass",
        "\u001b[37mtweet_network.rb:60:in `block in run'\u001b[0m",
        "\u001b[37mtweet_network.rb:54:in `each'\u001b[0m",
        "\u001b[37mtweet_network.rb:54:in `each_with_index'\u001b[0m",
        "\u001b[37mtweet_network.rb:54:in `run'\u001b[0m",
        "\u001b[37mtweet_network.rb:74:in `run_network'\u001b[0m",
        "\u001b[37m<main>:1:in `<main>'\u001b[0m",
        "\u001b[37m/Users/mihailpospelov/.rvm/gems/ruby-2.1.1/gems/iruby-0.1.9/lib/iruby/backend.rb:8:in `eval'\u001b[0m",
        "\u001b[37m/Users/mihailpospelov/.rvm/gems/ruby-2.1.1/gems/iruby-0.1.9/lib/iruby/backend.rb:8:in `eval'\u001b[0m",
        "\u001b[37m/Users/mihailpospelov/.rvm/gems/ruby-2.1.1/gems/iruby-0.1.9/lib/iruby/kernel.rb:110:in `execute_request'\u001b[0m",
        "\u001b[37m/Users/mihailpospelov/.rvm/gems/ruby-2.1.1/gems/iruby-0.1.9/lib/iruby/kernel.rb:62:in `run'\u001b[0m",
        "\u001b[37m/Users/mihailpospelov/.rvm/gems/ruby-2.1.1/gems/iruby-0.1.9/lib/iruby/command.rb:29:in `run_kernel'\u001b[0m",
        "\u001b[37m/Users/mihailpospelov/.rvm/gems/ruby-2.1.1/gems/iruby-0.1.9/lib/iruby/command.rb:15:in `run'\u001b[0m",
        "\u001b[37m/Users/mihailpospelov/.rvm/gems/ruby-2.1.1/gems/iruby-0.1.9/bin/iruby:6:in `<top (required)>'\u001b[0m",
        "\u001b[37m/Users/mihailpospelov/.rvm/gems/ruby-2.1.1/bin/iruby:23:in `load'\u001b[0m",
        "\u001b[37m/Users/mihailpospelov/.rvm/gems/ruby-2.1.1/bin/iruby:23:in `<main>'\u001b[0m",
        "\u001b[37m/Users/mihailpospelov/.rvm/gems/ruby-2.1.1/bin/ruby_executable_hooks:15:in `eval'\u001b[0m",
        "\u001b[37m/Users/mihailpospelov/.rvm/gems/ruby-2.1.1/bin/ruby_executable_hooks:15:in `<main>'\u001b[0m"
       ]
      }
     ],
     "prompt_number": 6
    },
    {
     "cell_type": "code",
     "collapsed": false,
     "input": [
      "a,"
     ],
     "language": "python",
     "metadata": {},
     "outputs": []
    }
   ],
   "metadata": {}
  }
 ]
}