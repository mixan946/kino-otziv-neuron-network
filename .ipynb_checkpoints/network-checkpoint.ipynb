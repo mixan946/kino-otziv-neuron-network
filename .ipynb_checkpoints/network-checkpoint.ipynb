{
 "metadata": {
  "name": "",
  "signature": "sha256:f720fa9268044680c6ef90d6f489885c29adb77ffccec10d80d878f097eb3ad0"
 },
 "nbformat": 3,
 "nbformat_minor": 0,
 "worksheets": []
}